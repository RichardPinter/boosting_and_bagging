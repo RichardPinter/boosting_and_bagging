{
 "cells": [
  {
   "cell_type": "code",
   "execution_count": 1,
   "metadata": {},
   "outputs": [],
   "source": [
    "%load_ext autoreload\n",
    "%autoreload 2\n",
    "%reload_ext autoreload"
   ]
  },
  {
   "cell_type": "code",
   "execution_count": 2,
   "metadata": {},
   "outputs": [],
   "source": [
    "import pandas as pd\n",
    "import numpy as np\n",
    "import matplotlib.pyplot as plt\n",
    "import os\n",
    "import sys\n",
    "pd.set_option('mode.chained_assignment', None)\n",
    "from tqdm import tqdm\n",
    "import random"
   ]
  },
  {
   "cell_type": "code",
   "execution_count": 3,
   "metadata": {},
   "outputs": [],
   "source": [
    "parent_dir = os.path.abspath(os.path.join(os.getcwd(), '../'))\n",
    "subdir = 'utils'\n",
    "path = os.path.join(parent_dir, subdir)\n",
    "sys.path.append(path)\n",
    "from tqdm import tqdm"
   ]
  },
  {
   "cell_type": "code",
   "execution_count": 4,
   "metadata": {},
   "outputs": [],
   "source": [
    "# Get the data from here https://www.kaggle.com/competitions/nyc-taxi-trip-duration/data\n",
    "test_df = pd.read_csv('https://raw.githubusercontent.com/agconti/kaggle-titanic/master/data/test.csv')\n",
    "\n",
    "train_df = pd.read_csv('https://raw.githubusercontent.com/agconti/kaggle-titanic/master/data/train.csv')"
   ]
  },
  {
   "cell_type": "code",
   "execution_count": 5,
   "metadata": {},
   "outputs": [],
   "source": [
    "train_df = train_df.fillna(0)"
   ]
  },
  {
   "cell_type": "code",
   "execution_count": 6,
   "metadata": {},
   "outputs": [],
   "source": [
    "def is_numeric(s):\n",
    "    try:\n",
    "        float(s)\n",
    "        return True\n",
    "    except ValueError:\n",
    "        return False"
   ]
  },
  {
   "attachments": {},
   "cell_type": "markdown",
   "metadata": {},
   "source": [
    "# Decision Treest\n"
   ]
  },
  {
   "cell_type": "code",
   "execution_count": 7,
   "metadata": {
    "tags": []
   },
   "outputs": [],
   "source": [
    "class Decision_tree_new():\n",
    "    \"\"\"\n",
    "    Initialize the Decision Tree.\n",
    "    \"\"\"\n",
    "    def __init__(self, data: pd.DataFrame, target: str, depth: int, ratio: float, random_state: int = 1992) -> None:\n",
    "        self.data = data\n",
    "        self.columns = data.columns.tolist()\n",
    "        self.target = target\n",
    "        self.splits = [('Sex', 'male')]\n",
    "        self.depth = depth\n",
    "        self.ratio = ratio\n",
    "        self.random_state = random_state\n",
    "        random.seed(random_state)  # Set random state for reproducibility\n",
    "        self.run_splits()\n",
    "\n",
    "\n",
    "    def run_splits(self):\n",
    "        while self.depth >= 1:\n",
    "            self.new_split()\n",
    "            self.depth -= 1\n",
    "        \n",
    "\n",
    "    def split_to_node(self, condition):\n",
    "        node_left = self.data[condition].copy(deep=True)\n",
    "        node_right = self.data[~condition].copy(deep=True)\n",
    "        return node_left, node_right\n",
    "    \n",
    "    \n",
    "    def select_columns(self):\n",
    "        # Calculate best split for left and right child\n",
    "        random.shuffle(self.columns)\n",
    "        # Calculate the number of columns to select (10%)\n",
    "        num_columns_to_select = int(len(self.columns) * self.ratio)\n",
    "\n",
    "        # If the calculated number of columns is zero, select at least one column\n",
    "        num_columns_to_select = max(num_columns_to_select, 1)\n",
    "        \n",
    "        return self.columns[:num_columns_to_select]\n",
    "\n",
    "\n",
    "    def new_split(self):\n",
    "        best_score= 0\n",
    "        best_new_split = None\n",
    "        for split in self.splits:\n",
    "            # Go to the branch and look at left and right child\n",
    "            if is_numeric( split[1]):\n",
    "                node_left, node_right = self.split_to_node(self.data[split[0]] >= float(split[1]))\n",
    "            else:\n",
    "                node_left, node_right = self.split_to_node(self.data[split[0]] == split[1])\n",
    "                \n",
    "            # Select the proportion of the columns\n",
    "            selected_columns = self.select_columns()\n",
    "            \n",
    "            # Find the best split for the nodes\n",
    "            left_split, left_score = self.best_slit_for_node(node_left, selected_columns)\n",
    "            right_split, right_score = self.best_slit_for_node(node_right, selected_columns)\n",
    "            \n",
    "            # Update best split\n",
    "            temp_dict = {left_score : left_split, right_score : right_split,  best_score: best_new_split}\n",
    "            max_key = max(temp_dict.keys())\n",
    "            # Get the value associated with the maximum key\n",
    "            best_score = max_key\n",
    "            \n",
    "        # Find best score\n",
    "        new_split = temp_dict[best_score]\n",
    "        if new_split == None:\n",
    "            return\n",
    "        self.splits.append(new_split)\n",
    "        print(self.splits)\n",
    "\n",
    "\n",
    "    def best_slit_for_node(self,data, columns):\n",
    "        self.gini_values = {}\n",
    "        for col  in columns:\n",
    "            for val in self.data[col].unique():\n",
    "                gini_weighted = self.split(data, col, val)\n",
    "                self.gini_values[col + '_split_' + str(val)] = gini_weighted\n",
    "        # Find the minimum value of the dictionary and update the self.data\n",
    "        min_key = min(self.gini_values, key=self.gini_values.get)\n",
    "        col, val = min_key.split('_split_')\n",
    "        return (col, val), self.gini_values[min_key]\n",
    "\n",
    "\n",
    "    def split(self, data, col, val):\n",
    "        # Calculate probability for each node\n",
    "        cls1 = data[data[col] == val]\n",
    "        cls2 = data[data[col] != val]\n",
    "        prob_list, n1, n2 = self.calculate_probability(cls1, cls2)\n",
    "        \n",
    "        # Calculate gini_index for each node\n",
    "        g1, g2 = self.gini_index(prob_list)\n",
    "        \n",
    "        # Return weighted gini-impuritiny index\n",
    "        return self.gini_impurity_for_split(g1, g2, n1, n2)\n",
    "\n",
    "\n",
    "    def calculate_probability(self, cls1, cls2):\n",
    "        ''''''\n",
    "        prob_cls1 = []\n",
    "        prob_cls2 = []\n",
    "        n1 = len(cls1)\n",
    "        n2 = len(cls2)\n",
    "        for val in cls1[self.target].unique():\n",
    "            temp_data = len(cls1[cls1[self.target] == val].copy(deep=True))\n",
    "            prob_cls1.append(temp_data / n1)\n",
    "\n",
    "        for val in cls2[self.target].unique():\n",
    "            value2 = len(cls2[cls2[self.target] == val].copy(deep=True))\n",
    "            prob_cls2.append(value2 / n2)\n",
    "        return [prob_cls1, prob_cls2], n1, n2\n",
    "        \n",
    "\n",
    "    def gini_index(self, prob_list):\n",
    "        g1 =  1 - np.sum([element **2 for element in prob_list[0]])\n",
    "        g2 =  1 - np.sum([element **2 for element in prob_list[1]])\n",
    "        return g1, g2\n",
    "        \n",
    "\n",
    "    def gini_impurity_for_split(self, g1, g2, n1, n2):\n",
    "        return n1/(n1+n2) * g1 + n2/(n1+n2) * g2\n",
    "        "
   ]
  },
  {
   "cell_type": "code",
   "execution_count": 8,
   "metadata": {},
   "outputs": [
    {
     "name": "stdout",
     "output_type": "stream",
     "text": [
      "[('Sex', 'male'), ('Fare', '31.275')]\n",
      "[('Sex', 'male'), ('Fare', '31.275'), ('Pclass', '3')]\n"
     ]
    }
   ],
   "source": [
    "target = 'Survived'\n",
    "n_depth = 5\n",
    "ratio = 0.3\n",
    "decision_tree = Decision_tree_new(train_df, target, n_depth, ratio)"
   ]
  }
 ],
 "metadata": {
  "kernelspec": {
   "display_name": "boosting",
   "language": "python",
   "name": "python3"
  },
  "language_info": {
   "codemirror_mode": {
    "name": "ipython",
    "version": 3
   },
   "file_extension": ".py",
   "mimetype": "text/x-python",
   "name": "python",
   "nbconvert_exporter": "python",
   "pygments_lexer": "ipython3",
   "version": "3.10.12"
  },
  "orig_nbformat": 4
 },
 "nbformat": 4,
 "nbformat_minor": 2
}
