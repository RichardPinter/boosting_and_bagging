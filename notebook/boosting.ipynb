{
 "cells": [
  {
   "cell_type": "code",
   "execution_count": 3,
   "metadata": {},
   "outputs": [],
   "source": [
    "%load_ext autoreload\n",
    "%autoreload 2\n",
    "%reload_ext autoreload"
   ]
  },
  {
   "cell_type": "code",
   "execution_count": 4,
   "metadata": {},
   "outputs": [],
   "source": [
    "import pandas as pd\n",
    "import numpy as np\n",
    "import matplotlib.pyplot as plt\n",
    "import os\n",
    "import sys\n",
    "pd.set_option('mode.chained_assignment', None)\n",
    "from tqdm import tqdm\n",
    "import random"
   ]
  },
  {
   "cell_type": "code",
   "execution_count": 5,
   "metadata": {},
   "outputs": [],
   "source": [
    "parent_dir = os.path.abspath(os.path.join(os.getcwd(), '../'))\n",
    "subdir = 'utils'\n",
    "path = os.path.join(parent_dir, subdir)\n",
    "sys.path.append(path)\n",
    "from tqdm import tqdm"
   ]
  },
  {
   "cell_type": "code",
   "execution_count": 6,
   "metadata": {},
   "outputs": [],
   "source": [
    "# Get the data from here https://www.kaggle.com/competitions/nyc-taxi-trip-duration/data\n",
    "test_df = pd.read_csv('https://raw.githubusercontent.com/agconti/kaggle-titanic/master/data/test.csv')\n",
    "train_df = pd.read_csv('https://raw.githubusercontent.com/agconti/kaggle-titanic/master/data/train.csv')"
   ]
  },
  {
   "cell_type": "code",
   "execution_count": null,
   "metadata": {},
   "outputs": [],
   "source": [
    "# Adaboost\n",
    "\n",
    "# In Adaboost we have two levels of weights, data weights and model weights\n",
    "\n",
    "# Initialise weights of the data (uniform in the number of weak learner)\n",
    "# Decision stumps\n",
    "# Update weights of the model\n",
    "# Update \n",
    "\n",
    "\n",
    "# Initialise weights\n",
    "# Initialise base model - basic weak learner\n",
    "\n",
    "# Iteration\n",
    "\n",
    "    # Fit weak learner\n",
    "    # Calculate model weight\n",
    "    # Store model and model weights\n",
    "    # Update data weights\n",
    "\n",
    "# Combine model weights and models into a strong clasifier with model weights"
   ]
  },
  {
   "cell_type": "code",
   "execution_count": 5,
   "metadata": {},
   "outputs": [],
   "source": [
    "def _normalsie_weights(weights_raw):\n",
    "    return weights_raw/np.sum(weights_raw)"
   ]
  },
  {
   "cell_type": "code",
   "execution_count": 6,
   "metadata": {},
   "outputs": [],
   "source": [
    "def update_weights(model_weight, weight_data, true_data, prediction_data):\n",
    "    change_of_weight_factor = np.exp(- model_weight * np.multiply(true_data, prediction_data))\n",
    "    weights_new_raw = np.multiply(weight_data, change_of_weight_factor)\n",
    "    return  _normalsie_weights(weights_new_raw)"
   ]
  },
  {
   "cell_type": "code",
   "execution_count": 7,
   "metadata": {},
   "outputs": [],
   "source": [
    "def _model_error_helper(weight_data, true_data, prediction_data):\n",
    "    error_data = (true_data != prediction_data).astype(int)\n",
    "    return np.sum(weight_data * error_data) / np.sum(weight_data)"
   ]
  },
  {
   "cell_type": "code",
   "execution_count": 8,
   "metadata": {},
   "outputs": [],
   "source": [
    "def calculate_model_error(weight_data, true_data, prediction_data):\n",
    "    eta = _model_error_helper(weight_data, true_data, prediction_data)\n",
    "    return 0.5 * np.log(1-eta/eta)"
   ]
  },
  {
   "cell_type": "code",
   "execution_count": null,
   "metadata": {},
   "outputs": [],
   "source": [
    "def strong_learner(model_weights, weak_lerners, true_data):\n",
    "    return np.sign(np.sum(model_weights * weak_lerners))"
   ]
  }
 ],
 "metadata": {
  "kernelspec": {
   "display_name": "bagging_env",
   "language": "python",
   "name": "python3"
  },
  "language_info": {
   "codemirror_mode": {
    "name": "ipython",
    "version": 3
   },
   "file_extension": ".py",
   "mimetype": "text/x-python",
   "name": "python",
   "nbconvert_exporter": "python",
   "pygments_lexer": "ipython3",
   "version": "3.8.10"
  },
  "orig_nbformat": 4
 },
 "nbformat": 4,
 "nbformat_minor": 2
}
