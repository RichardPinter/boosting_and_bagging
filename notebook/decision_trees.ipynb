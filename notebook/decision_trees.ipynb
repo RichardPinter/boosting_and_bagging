{
 "cells": [
  {
   "cell_type": "code",
   "execution_count": null,
   "metadata": {},
   "outputs": [],
   "source": [
    "%load_ext autoreload\n",
    "%autoreload 2\n",
    "%reload_ext autoreload"
   ]
  },
  {
   "cell_type": "markdown",
   "metadata": {},
   "source": []
  },
  {
   "cell_type": "code",
   "execution_count": null,
   "metadata": {},
   "outputs": [],
   "source": [
    "import pandas as pd\n",
    "import numpy as np\n",
    "import matplotlib.pyplot as plt\n",
    "import os\n",
    "import sys\n",
    "from tqdm import tqdm\n",
    "pd.set_option('mode.chained_assignment', None)\n",
    "from typing import List"
   ]
  },
  {
   "cell_type": "code",
   "execution_count": null,
   "metadata": {},
   "outputs": [],
   "source": [
    "parent_dir = os.path.abspath(os.path.join(os.getcwd(), '../'))\n",
    "subdir = 'utils/'\n",
    "path = os.path.join(parent_dir, subdir)\n",
    "sys.path.append(path)\n",
    "from decision_tree import AllSplits"
   ]
  },
  {
   "cell_type": "code",
   "execution_count": null,
   "metadata": {},
   "outputs": [],
   "source": [
    "# Train data\n",
    "train_df = pd.read_csv('https://raw.githubusercontent.com/agconti/kaggle-titanic/master/data/train.csv')\n",
    "\n",
    "# Test data\n",
    "test_df = pd.read_csv('https://raw.githubusercontent.com/agconti/kaggle-titanic/master/data/test.csv')"
   ]
  },
  {
   "cell_type": "code",
   "execution_count": null,
   "metadata": {},
   "outputs": [],
   "source": [
    "train_df = train_df.fillna(0)"
   ]
  },
  {
   "cell_type": "code",
   "execution_count": null,
   "metadata": {},
   "outputs": [],
   "source": [
    "# Seed for reproducibility\n",
    "np.random.seed(42)\n",
    "\n",
    "# Number of samples\n",
    "n = 500\n",
    "\n",
    "# Generate features with random choice between 1 and 2\n",
    "features = {}\n",
    "for i in range(1, 5):\n",
    "    features[f\"Feature{i}\"] = np.random.choice([1, 2], n)\n",
    "\n",
    "# Generate target with random choice between 'A' and 'B'\n",
    "target = np.random.choice(['A', 'B'], n)\n",
    "\n",
    "# Create DataFrame\n",
    "data = pd.DataFrame(features)\n",
    "data['target'] = target"
   ]
  },
  {
   "cell_type": "code",
   "execution_count": null,
   "metadata": {},
   "outputs": [],
   "source": [
    "data"
   ]
  },
  {
   "cell_type": "code",
   "execution_count": 35,
   "metadata": {},
   "outputs": [
    {
     "data": {
      "text/plain": [
       "{UUID('e630e887-99e8-4616-919b-8cab7c3b924d'): <decision_tree.Node at 0x7f1f10da6a00>,\n",
       " UUID('c3527a55-7632-4fd3-9336-5edf64364913'): <decision_tree.Node at 0x7f1f10c3dca0>,\n",
       " UUID('bde78e28-a2fd-438f-83ba-4f0e7905d991'): <decision_tree.Node at 0x7f1f10c3de20>,\n",
       " UUID('174cf8a6-dde3-4bc3-bc9d-dc71f7135272'): <decision_tree.Node at 0x7f1f10c3dd60>,\n",
       " UUID('7e16049f-a188-48b2-b64e-5a8712ee77c4'): <decision_tree.Node at 0x7f1f10dcb430>,\n",
       " UUID('263a5e5c-3af3-490e-b3d3-d02e18e9f0b6'): <decision_tree.Node at 0x7f1f10c3df10>}"
      ]
     },
     "execution_count": 35,
     "metadata": {},
     "output_type": "execute_result"
    }
   ],
   "source": [
    "# Initialize the BestSplitFinder class\n",
    "tree = AllSplits(data, 'target', depth = 10)\n",
    "splits = tree.get_tree_splits()\n",
    "splits"
   ]
  }
 ],
 "metadata": {
  "kernelspec": {
   "display_name": "boosting",
   "language": "python",
   "name": "python3"
  },
  "language_info": {
   "codemirror_mode": {
    "name": "ipython",
    "version": 3
   },
   "file_extension": ".py",
   "mimetype": "text/x-python",
   "name": "python",
   "nbconvert_exporter": "python",
   "pygments_lexer": "ipython3",
   "version": "3.8.10"
  },
  "orig_nbformat": 4
 },
 "nbformat": 4,
 "nbformat_minor": 2
}
